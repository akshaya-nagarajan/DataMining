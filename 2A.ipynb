{
 "cells": [
  {
   "cell_type": "code",
   "execution_count": 16,
   "metadata": {},
   "outputs": [
    {
     "name": "stdout",
     "output_type": "stream",
     "text": [
      "0      22.0\n",
      "1      38.0\n",
      "2      26.0\n",
      "3      35.0\n",
      "4      35.0\n",
      "       ... \n",
      "886    27.0\n",
      "887    19.0\n",
      "888    27.0\n",
      "889    26.0\n",
      "890    32.0\n",
      "Name: Age, Length: 891, dtype: float64\n",
      "0       C13\n",
      "1       C85\n",
      "2       C13\n",
      "3      C123\n",
      "4       C13\n",
      "       ... \n",
      "413     C13\n",
      "414    C105\n",
      "415     C13\n",
      "416     C13\n",
      "417     C13\n",
      "Name: Cabin, Length: 1309, dtype: object\n"
     ]
    },
    {
     "name": "stderr",
     "output_type": "stream",
     "text": [
      "/usr/local/Cellar/ipython/7.8.0/libexec/vendor/lib/python3.7/site-packages/ipykernel_launcher.py:13: FutureWarning: Sorting because non-concatenation axis is not aligned. A future version\n",
      "of pandas will change to not sort by default.\n",
      "\n",
      "To accept the future behavior, pass 'sort=False'.\n",
      "\n",
      "To retain the current behavior and silence the warning, pass 'sort=True'.\n",
      "\n",
      "  del sys.path[0]\n"
     ]
    }
   ],
   "source": [
    "import pandas as pd\n",
    "import numpy as np\n",
    "import matplotlib.pyplot as plt\n",
    "%matplotlib inline\n",
    "import random\n",
    "import string\n",
    "import math\n",
    "\n",
    "training_set = pd.read_csv('~/Downloads/titanic/train.csv')\n",
    "test_set = pd.read_csv('~/Downloads/titanic/test.csv')\n",
    "#training_set.head()\n",
    "\n",
    "titanic_dataset = pd.concat([training_set,test_set])\n",
    "#print(titanic_dataset)\n",
    "\n",
    "# Getting all column infos\n",
    "#titanic_dataset.info()\n",
    "\n",
    "# 1 - dropping the unwanted col\n",
    "#cols = ['PassengerId']\n",
    "#titanic_dataset = titanic_dataset.drop(cols, axis=1)\n",
    "\n",
    "# Optional for small dataset. Can be done for large dataset\n",
    "#titanic_dataset = titanic_dataset.dropna()\n",
    "#print(titanic_dataset)\n",
    "\n",
    "# 2 - Using forward or backward interpolation to fill the age column\n",
    "#titanic_dataset['Age'] = titanic_dataset['Age'].interpolate(limit_direction ='forward')\n",
    "#titanic_dataset['Age'] = titanic_dataset['Age'].interpolate(limit_direction ='backward')\n",
    "#print(titanic_dataset['Age'])\n",
    "#titanic_dataset.info()\n",
    "\n",
    "# 3- Or finding the median for the age column - not a good option\n",
    "titanic_dataset['Age'] = titanic_dataset.loc[:,\"Age\"].median()\n",
    "#print(titanic_dataset['Age'])\n",
    "\n",
    "# 4 - Group by sex  to get the age using the grouped median\n",
    "\n",
    "groupedDataset = training_set.groupby(['Sex'])\n",
    "groupedDataset.Age.median()\n",
    "training_set['Age'] = groupedDataset.Age.apply(lambda x: x.fillna(x.median()))\n",
    "print(training_set['Age'])\n",
    "\n",
    "# 5 - Filling the cabin column with alphanumeric characters \n",
    "for value in titanic_dataset['Cabin']:\n",
    "    if value != value:\n",
    "        str = ''.join(random.choice(string.digits) for _ in range(2))\n",
    "        val = random.choice(\"ABCDE\") + str\n",
    "        titanic_dataset['Cabin'].fillna(val, inplace = True) \n",
    "print(titanic_dataset['Cabin'])        \n",
    "        \n",
    "    \n"
   ]
  },
  {
   "cell_type": "code",
   "execution_count": null,
   "metadata": {},
   "outputs": [],
   "source": []
  }
 ],
 "metadata": {
  "kernelspec": {
   "display_name": "Python 3",
   "language": "python",
   "name": "python3"
  },
  "language_info": {
   "codemirror_mode": {
    "name": "ipython",
    "version": 3
   },
   "file_extension": ".py",
   "mimetype": "text/x-python",
   "name": "python",
   "nbconvert_exporter": "python",
   "pygments_lexer": "ipython3",
   "version": "3.7.4"
  }
 },
 "nbformat": 4,
 "nbformat_minor": 2
}
