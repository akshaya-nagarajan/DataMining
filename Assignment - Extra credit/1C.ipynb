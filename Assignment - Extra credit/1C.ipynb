{
 "cells": [
  {
   "cell_type": "code",
   "execution_count": 26,
   "metadata": {},
   "outputs": [],
   "source": [
    "import matplotlib.pyplot as pPlot\n",
    "from wordcloud import WordCloud, STOPWORDS\n",
    "import numpy as npy\n",
    "from PIL import Image\n",
    "\n",
    "#link = \"https://www.w3.org/TR/PNG/iso_8859-1.txt\"\n",
    "dataset = open(\"/Users/akshayanagarajan/Downloads/new.txt\", \"r\").read()\n",
    "def create_word_cloud(string):\n",
    "   maskArray = npy.array(Image.open(\"/Users/akshayanagarajan/Downloads/cloud.png\"))\n",
    "   cloud = WordCloud(background_color = \"white\", mask = maskArray, stopwords = set(STOPWORDS))\n",
    "   cloud.generate(string)\n",
    "   cloud.to_file(\"wordCloud.png\")\n",
    "    \n",
    "dataset = dataset.lower()\n",
    "create_word_cloud(dataset)"
   ]
  },
  {
   "cell_type": "code",
   "execution_count": null,
   "metadata": {},
   "outputs": [],
   "source": []
  }
 ],
 "metadata": {
  "kernelspec": {
   "display_name": "Python 3",
   "language": "python",
   "name": "python3"
  },
  "language_info": {
   "codemirror_mode": {
    "name": "ipython",
    "version": 3
   },
   "file_extension": ".py",
   "mimetype": "text/x-python",
   "name": "python",
   "nbconvert_exporter": "python",
   "pygments_lexer": "ipython3",
   "version": "3.7.5"
  }
 },
 "nbformat": 4,
 "nbformat_minor": 2
}
