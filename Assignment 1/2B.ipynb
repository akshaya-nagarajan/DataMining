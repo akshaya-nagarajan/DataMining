{
 "cells": [
  {
   "cell_type": "code",
   "execution_count": 1,
   "metadata": {},
   "outputs": [
    {
     "name": "stdout",
     "output_type": "stream",
     "text": [
      "47 :  B-\n",
      "63 :  B+\n",
      "71 :  A-\n",
      "39 :  C\n",
      "47 :  B-\n",
      "49 :  B-\n",
      "43 :  C+\n",
      "37 :  C\n",
      "81 :  A+\n",
      "69 :  A-\n",
      "38 :  C\n",
      "29 :  C-\n",
      "61 :  B+\n",
      "49 :  B-\n",
      "53 :  B-\n",
      "57 :  B\n",
      "23 :  D\n",
      "58 :  B\n",
      "17 :  F\n",
      "73 :  A\n",
      "33 :  C-\n",
      "29 :  C-\n"
     ]
    }
   ],
   "source": [
    "import statistics as st\n",
    "marks = [47, 63, 71, 39, 47, 49, 43, 37, 81, 69, 38, 13, 29, 61, 49, 53, 57, 23, 58, 17, 73, 33, 29]\n",
    "mean_marks = st.mean(marks)\n",
    "std_marks = st.stdev(marks)\n",
    "dict = {\"A+\": mean_marks + (5/3)*std_marks,\n",
    "        \"A\": mean_marks + (4/3)*std_marks,\n",
    "        \"A-\": mean_marks + (3/3)*std_marks,\n",
    "        \"B+\": mean_marks + (2/3)*std_marks,\n",
    "        \"B\": mean_marks + (1/3)*std_marks,\n",
    "        \"B-\": mean_marks, \n",
    "        \"C+\": mean_marks - (1/3)*std_marks, \n",
    "        \"C\": mean_marks - (2/3)*std_marks, \n",
    "        \"C-\": mean_marks - (3/3)*std_marks,\n",
    "        \"D\": mean_marks - (4/3)*std_marks,\n",
    "        \"F\": mean_marks - (5/3)*std_marks \n",
    "       } \n",
    "for mark in marks:\n",
    "    for key, value in dict.items():\n",
    "        if mark >= value:\n",
    "            print(mark, \": \", key)\n",
    "            break"
   ]
  },
  {
   "cell_type": "code",
   "execution_count": null,
   "metadata": {},
   "outputs": [],
   "source": []
  }
 ],
 "metadata": {
  "kernelspec": {
   "display_name": "Python 3",
   "language": "python",
   "name": "python3"
  },
  "language_info": {
   "codemirror_mode": {
    "name": "ipython",
    "version": 3
   },
   "file_extension": ".py",
   "mimetype": "text/x-python",
   "name": "python",
   "nbconvert_exporter": "python",
   "pygments_lexer": "ipython3",
   "version": "3.7.4"
  }
 },
 "nbformat": 4,
 "nbformat_minor": 2
}
