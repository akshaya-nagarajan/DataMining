{
 "cells": [
  {
   "cell_type": "code",
   "execution_count": 4,
   "metadata": {},
   "outputs": [
    {
     "name": "stdout",
     "output_type": "stream",
     "text": [
      "Support vectors \n",
      "[[ 8.  4.  4.  5.  4.  7.  7.  8.  2.]\n",
      " [ 4.  4.  4.  4.  6.  5.  7.  3.  1.]\n",
      " [ 5.  1.  2. 10.  4.  5.  2.  1.  1.]\n",
      " [ 6.  8.  8.  1.  3.  4.  3.  7.  1.]\n",
      " [ 4.  4.  2.  1.  2.  5.  2.  1.  2.]\n",
      " [ 3.  3.  2.  6.  3.  3.  3.  5.  1.]\n",
      " [ 6.  9.  7.  5.  5.  8.  4.  2.  1.]\n",
      " [ 8.  3.  3.  1.  2.  2.  3.  2.  1.]\n",
      " [ 6.  3.  3.  3.  3.  2.  6.  1.  1.]\n",
      " [ 3.  1.  1.  1.  2.  5.  5.  1.  1.]\n",
      " [ 4.  4.  4.  2.  2.  3.  2.  1.  1.]\n",
      " [ 3.  3.  2.  1.  3.  1.  3.  6.  1.]\n",
      " [ 8.  4.  6.  3.  3.  1.  4.  3.  1.]\n",
      " [ 8.  2.  1.  1.  5.  1.  1.  1.  1.]\n",
      " [ 5.  4.  5.  1.  8.  1.  3.  6.  1.]\n",
      " [ 5.  1.  4.  1.  2.  1.  3.  2.  1.]\n",
      " [ 6.  3.  3.  5.  3. 10.  3.  5.  3.]\n",
      " [ 5.  3.  3.  3.  6. 10.  3.  1.  1.]\n",
      " [ 4. 10.  8.  5.  4.  1. 10.  1.  1.]\n",
      " [ 3.  3.  5.  2.  3. 10.  7.  1.  1.]\n",
      " [ 2.  5.  3.  3.  6.  7.  7.  5.  1.]\n",
      " [ 3.  6.  4. 10.  3.  3.  3.  4.  1.]\n",
      " [ 6.  3.  2.  1.  3.  4.  4.  1.  1.]\n",
      " [10.  4.  2.  1.  3.  2.  4.  3. 10.]\n",
      " [10.  4.  3.  1.  3.  3.  6.  5.  2.]\n",
      " [ 6.  3.  4.  1.  5.  2.  3.  9.  1.]\n",
      " [ 3.  3.  5.  2.  3. 10.  7.  1.  1.]\n",
      " [ 5.  2.  3.  4.  2.  7.  3.  6.  1.]\n",
      " [ 4.  1.  1.  3.  1.  5.  2.  1.  1.]\n",
      " [ 5.  3.  5.  5.  3.  3.  4. 10.  1.]\n",
      " [ 5.  6.  5.  6. 10.  1.  3.  1.  1.]\n",
      " [ 9.  5.  5.  2.  2.  2.  5.  1.  1.]\n",
      " [ 5.  5.  5.  6.  3. 10.  3.  1.  1.]\n",
      " [ 7.  2.  4.  1.  3.  4.  3.  3.  1.]\n",
      " [ 2.  3.  4.  4.  2.  5.  2.  5.  1.]\n",
      " [10.  6.  4.  1.  3.  4.  3.  2.  3.]]\n",
      "Indices of SV \n",
      "[  4   5  52  73 143 153 192 245 270 297 322 336 357 361 362 428 446  19\n",
      "  99 122 128 150 193 204 224 282 290 318 320 378 379 426 445 450 455 459]\n",
      "number of SV for each class\n",
      "[17 19]\n"
     ]
    }
   ],
   "source": [
    "import pandas as pd\n",
    "import numpy as np\n",
    "from sklearn import preprocessing, svm\n",
    "from sklearn.model_selection import train_test_split\n",
    "\n",
    "# READING THE DOWNLOADED DATA SET SAVED IN THE SYSTEM\n",
    "data_frame = pd.read_csv('~/Desktop/bc.csv')\n",
    "\n",
    "# DELETING THE UNWANTED COLUMNS\n",
    "first_col = data_frame.columns[0]\n",
    "second_col = data_frame.columns[1]\n",
    "data_frame = data_frame.drop([first_col], axis=1)\n",
    "data_frame = data_frame.drop([second_col], axis=1)\n",
    "\n",
    "X = np.array(data_frame.drop(['Class'], 1))\n",
    "y = np.array(data_frame['Class'])\n",
    "\n",
    "X_train, X_test, y_train, y_test = train_test_split(X, y, train_size=0.7, test_size=0.3, random_state=0)\n",
    "\n",
    "clf = svm.SVC(kernel='linear', random_state=0)\n",
    "\n",
    "clf.fit(X_train, y_train)\n",
    "\n",
    "sv = clf.support_vectors_\n",
    "print(\"Support vectors \")\n",
    "print(sv)\n",
    "\n",
    "indices = clf.support_\n",
    "print(\"Indices of SV \")\n",
    "print(indices)\n",
    "\n",
    "numb = clf.n_support_\n",
    "print(\"number of SV for each class\")\n",
    "print(numb)"
   ]
  },
  {
   "cell_type": "code",
   "execution_count": null,
   "metadata": {},
   "outputs": [],
   "source": []
  }
 ],
 "metadata": {
  "kernelspec": {
   "display_name": "Python 3",
   "language": "python",
   "name": "python3"
  },
  "language_info": {
   "codemirror_mode": {
    "name": "ipython",
    "version": 3
   },
   "file_extension": ".py",
   "mimetype": "text/x-python",
   "name": "python",
   "nbconvert_exporter": "python",
   "pygments_lexer": "ipython3",
   "version": "3.7.4"
  }
 },
 "nbformat": 4,
 "nbformat_minor": 2
}
